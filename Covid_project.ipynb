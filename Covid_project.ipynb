{
 "cells": [
  {
   "cell_type": "markdown",
   "metadata": {},
   "source": [
    "# WHO Covid Data Analysis\n",
    "This project seeks to examine the impact of the Covid-19 pandemic on various countries, age, sex and income group in terms of excess deaths using data obtained from the World Health Organization (WHO). Data Analytics tools and techniques are heavily deployed using the Pandas library in python."
   ]
  },
  {
   "cell_type": "code",
   "execution_count": 101,
   "metadata": {},
   "outputs": [],
   "source": [
    "import warnings\n",
    "warnings.simplefilter('ignore', FutureWarning) # to hide some warnings\n",
    "\n",
    "from pandas import *\n",
    "from datetime import datetime"
   ]
  },
  {
   "cell_type": "markdown",
   "metadata": {},
   "source": [
    "## Data Source\n",
    "The data used for this analysis was obtained from the World Health Organisation through the following link\n",
    "\n",
    "https://www.who.int/data/sets/global-excess-deaths-associated-with-covid-19-modelled-estimates\n",
    "\n",
    "I downloaded the excel file so it can be readily accessed offline."
   ]
  },
  {
   "cell_type": "markdown",
   "metadata": {},
   "source": [
    "## Reading the Appropriate Spreadsheet in Excel File\n",
    "We read the excel file from its path.\n",
    "We do not need to read all spreadsheets as we are only working with the 3rd spreadsheet.\n",
    "The first 10 rows are notes concerning what the column names mean. We do not need to read them into our dataframe.\n",
    "The heading row is the 11th.\n",
    "Putting all these into consideration, we read the excel file into pandas dataframe thus:"
   ]
  },
  {
   "cell_type": "code",
   "execution_count": 103,
   "metadata": {
    "scrolled": true
   },
   "outputs": [],
   "source": [
    "covid_df = read_excel('C:\\\\Users\\\\Engr.Kayode\\\\Documents\\\\OpenLearning\\\\Data_analysis/WHO_COVID_Excess_Deaths_EstimatesByRegion.xlsx', sheet_name=2, header=10)"
   ]
  },
  {
   "cell_type": "markdown",
   "metadata": {},
   "source": [
    "Now the table is read without errors. Let us view the first 10 columns, and after that the last 5 columns"
   ]
  },
  {
   "cell_type": "code",
   "execution_count": 104,
   "metadata": {
    "scrolled": true
   },
   "outputs": [
    {
     "data": {
      "text/html": [
       "<div>\n",
       "<style scoped>\n",
       "    .dataframe tbody tr th:only-of-type {\n",
       "        vertical-align: middle;\n",
       "    }\n",
       "\n",
       "    .dataframe tbody tr th {\n",
       "        vertical-align: top;\n",
       "    }\n",
       "\n",
       "    .dataframe thead th {\n",
       "        text-align: right;\n",
       "    }\n",
       "</style>\n",
       "<table border=\"1\" class=\"dataframe\">\n",
       "  <thead>\n",
       "    <tr style=\"text-align: right;\">\n",
       "      <th></th>\n",
       "      <th>location</th>\n",
       "      <th>year</th>\n",
       "      <th>sex</th>\n",
       "      <th>age</th>\n",
       "      <th>Nx</th>\n",
       "      <th>type</th>\n",
       "      <th>expected.mean</th>\n",
       "      <th>acm.mean</th>\n",
       "      <th>excess.mean</th>\n",
       "    </tr>\n",
       "  </thead>\n",
       "  <tbody>\n",
       "    <tr>\n",
       "      <th>0</th>\n",
       "      <td>Global</td>\n",
       "      <td>2020</td>\n",
       "      <td>Female</td>\n",
       "      <td>0 to 24</td>\n",
       "      <td>1538964911</td>\n",
       "      <td>Predicted</td>\n",
       "      <td>3097545</td>\n",
       "      <td>3076216</td>\n",
       "      <td>-21329</td>\n",
       "    </tr>\n",
       "    <tr>\n",
       "      <th>1</th>\n",
       "      <td>Global</td>\n",
       "      <td>2020</td>\n",
       "      <td>Female</td>\n",
       "      <td>25 to 39</td>\n",
       "      <td>849485348</td>\n",
       "      <td>Predicted</td>\n",
       "      <td>1013026</td>\n",
       "      <td>957939</td>\n",
       "      <td>-55087</td>\n",
       "    </tr>\n",
       "    <tr>\n",
       "      <th>2</th>\n",
       "      <td>Global</td>\n",
       "      <td>2020</td>\n",
       "      <td>Female</td>\n",
       "      <td>40 to 49</td>\n",
       "      <td>479860230</td>\n",
       "      <td>Predicted</td>\n",
       "      <td>1190126</td>\n",
       "      <td>1214924</td>\n",
       "      <td>24798</td>\n",
       "    </tr>\n",
       "    <tr>\n",
       "      <th>3</th>\n",
       "      <td>Global</td>\n",
       "      <td>2020</td>\n",
       "      <td>Female</td>\n",
       "      <td>50 to 59</td>\n",
       "      <td>416231682</td>\n",
       "      <td>Predicted</td>\n",
       "      <td>2204775</td>\n",
       "      <td>2387178</td>\n",
       "      <td>182403</td>\n",
       "    </tr>\n",
       "    <tr>\n",
       "      <th>4</th>\n",
       "      <td>Global</td>\n",
       "      <td>2020</td>\n",
       "      <td>Female</td>\n",
       "      <td>60 to 69</td>\n",
       "      <td>303533101</td>\n",
       "      <td>Predicted</td>\n",
       "      <td>3723836</td>\n",
       "      <td>4226869</td>\n",
       "      <td>503033</td>\n",
       "    </tr>\n",
       "    <tr>\n",
       "      <th>5</th>\n",
       "      <td>Global</td>\n",
       "      <td>2020</td>\n",
       "      <td>Female</td>\n",
       "      <td>70 to 79</td>\n",
       "      <td>169385113</td>\n",
       "      <td>Predicted</td>\n",
       "      <td>5059377</td>\n",
       "      <td>5570299</td>\n",
       "      <td>510922</td>\n",
       "    </tr>\n",
       "    <tr>\n",
       "      <th>6</th>\n",
       "      <td>Global</td>\n",
       "      <td>2020</td>\n",
       "      <td>Female</td>\n",
       "      <td>80 plus</td>\n",
       "      <td>88885126</td>\n",
       "      <td>Predicted</td>\n",
       "      <td>9209962</td>\n",
       "      <td>9972889</td>\n",
       "      <td>762927</td>\n",
       "    </tr>\n",
       "    <tr>\n",
       "      <th>7</th>\n",
       "      <td>Global</td>\n",
       "      <td>2020</td>\n",
       "      <td>Male</td>\n",
       "      <td>0 to 24</td>\n",
       "      <td>1642942104</td>\n",
       "      <td>Predicted</td>\n",
       "      <td>3935540</td>\n",
       "      <td>3903455</td>\n",
       "      <td>-32085</td>\n",
       "    </tr>\n",
       "    <tr>\n",
       "      <th>8</th>\n",
       "      <td>Global</td>\n",
       "      <td>2020</td>\n",
       "      <td>Male</td>\n",
       "      <td>25 to 39</td>\n",
       "      <td>887853298</td>\n",
       "      <td>Predicted</td>\n",
       "      <td>1803677</td>\n",
       "      <td>1659002</td>\n",
       "      <td>-144675</td>\n",
       "    </tr>\n",
       "    <tr>\n",
       "      <th>9</th>\n",
       "      <td>Global</td>\n",
       "      <td>2020</td>\n",
       "      <td>Male</td>\n",
       "      <td>40 to 49</td>\n",
       "      <td>488028531</td>\n",
       "      <td>Predicted</td>\n",
       "      <td>2078096</td>\n",
       "      <td>2114879</td>\n",
       "      <td>36783</td>\n",
       "    </tr>\n",
       "  </tbody>\n",
       "</table>\n",
       "</div>"
      ],
      "text/plain": [
       "  location  year     sex       age          Nx       type  expected.mean  \\\n",
       "0   Global  2020  Female   0 to 24  1538964911  Predicted        3097545   \n",
       "1   Global  2020  Female  25 to 39   849485348  Predicted        1013026   \n",
       "2   Global  2020  Female  40 to 49   479860230  Predicted        1190126   \n",
       "3   Global  2020  Female  50 to 59   416231682  Predicted        2204775   \n",
       "4   Global  2020  Female  60 to 69   303533101  Predicted        3723836   \n",
       "5   Global  2020  Female  70 to 79   169385113  Predicted        5059377   \n",
       "6   Global  2020  Female   80 plus    88885126  Predicted        9209962   \n",
       "7   Global  2020    Male   0 to 24  1642942104  Predicted        3935540   \n",
       "8   Global  2020    Male  25 to 39   887853298  Predicted        1803677   \n",
       "9   Global  2020    Male  40 to 49   488028531  Predicted        2078096   \n",
       "\n",
       "   acm.mean  excess.mean  \n",
       "0   3076216       -21329  \n",
       "1    957939       -55087  \n",
       "2   1214924        24798  \n",
       "3   2387178       182403  \n",
       "4   4226869       503033  \n",
       "5   5570299       510922  \n",
       "6   9972889       762927  \n",
       "7   3903455       -32085  \n",
       "8   1659002      -144675  \n",
       "9   2114879        36783  "
      ]
     },
     "execution_count": 104,
     "metadata": {},
     "output_type": "execute_result"
    }
   ],
   "source": [
    "covid_df.head(10)"
   ]
  },
  {
   "cell_type": "code",
   "execution_count": 105,
   "metadata": {},
   "outputs": [
    {
     "data": {
      "text/html": [
       "<div>\n",
       "<style scoped>\n",
       "    .dataframe tbody tr th:only-of-type {\n",
       "        vertical-align: middle;\n",
       "    }\n",
       "\n",
       "    .dataframe tbody tr th {\n",
       "        vertical-align: top;\n",
       "    }\n",
       "\n",
       "    .dataframe thead th {\n",
       "        text-align: right;\n",
       "    }\n",
       "</style>\n",
       "<table border=\"1\" class=\"dataframe\">\n",
       "  <thead>\n",
       "    <tr style=\"text-align: right;\">\n",
       "      <th></th>\n",
       "      <th>location</th>\n",
       "      <th>year</th>\n",
       "      <th>sex</th>\n",
       "      <th>age</th>\n",
       "      <th>Nx</th>\n",
       "      <th>type</th>\n",
       "      <th>expected.mean</th>\n",
       "      <th>acm.mean</th>\n",
       "      <th>excess.mean</th>\n",
       "    </tr>\n",
       "  </thead>\n",
       "  <tbody>\n",
       "    <tr>\n",
       "      <th>191</th>\n",
       "      <td>WPR</td>\n",
       "      <td>2021</td>\n",
       "      <td>Male</td>\n",
       "      <td>40 to 49</td>\n",
       "      <td>140741238</td>\n",
       "      <td>Predicted</td>\n",
       "      <td>439057</td>\n",
       "      <td>421866</td>\n",
       "      <td>-17191</td>\n",
       "    </tr>\n",
       "    <tr>\n",
       "      <th>192</th>\n",
       "      <td>WPR</td>\n",
       "      <td>2021</td>\n",
       "      <td>Male</td>\n",
       "      <td>50 to 59</td>\n",
       "      <td>144547081</td>\n",
       "      <td>Predicted</td>\n",
       "      <td>925160</td>\n",
       "      <td>955158</td>\n",
       "      <td>29998</td>\n",
       "    </tr>\n",
       "    <tr>\n",
       "      <th>193</th>\n",
       "      <td>WPR</td>\n",
       "      <td>2021</td>\n",
       "      <td>Male</td>\n",
       "      <td>60 to 69</td>\n",
       "      <td>98388414</td>\n",
       "      <td>Predicted</td>\n",
       "      <td>1618203</td>\n",
       "      <td>1741820</td>\n",
       "      <td>123617</td>\n",
       "    </tr>\n",
       "    <tr>\n",
       "      <th>194</th>\n",
       "      <td>WPR</td>\n",
       "      <td>2021</td>\n",
       "      <td>Male</td>\n",
       "      <td>70 to 79</td>\n",
       "      <td>49958251</td>\n",
       "      <td>Predicted</td>\n",
       "      <td>2023275</td>\n",
       "      <td>2136310</td>\n",
       "      <td>113035</td>\n",
       "    </tr>\n",
       "    <tr>\n",
       "      <th>195</th>\n",
       "      <td>WPR</td>\n",
       "      <td>2021</td>\n",
       "      <td>Male</td>\n",
       "      <td>80 plus</td>\n",
       "      <td>18062304</td>\n",
       "      <td>Predicted</td>\n",
       "      <td>2709552</td>\n",
       "      <td>2671721</td>\n",
       "      <td>-37831</td>\n",
       "    </tr>\n",
       "  </tbody>\n",
       "</table>\n",
       "</div>"
      ],
      "text/plain": [
       "    location  year   sex       age         Nx       type  expected.mean  \\\n",
       "191      WPR  2021  Male  40 to 49  140741238  Predicted         439057   \n",
       "192      WPR  2021  Male  50 to 59  144547081  Predicted         925160   \n",
       "193      WPR  2021  Male  60 to 69   98388414  Predicted        1618203   \n",
       "194      WPR  2021  Male  70 to 79   49958251  Predicted        2023275   \n",
       "195      WPR  2021  Male   80 plus   18062304  Predicted        2709552   \n",
       "\n",
       "     acm.mean  excess.mean  \n",
       "191    421866       -17191  \n",
       "192    955158        29998  \n",
       "193   1741820       123617  \n",
       "194   2136310       113035  \n",
       "195   2671721       -37831  "
      ]
     },
     "execution_count": 105,
     "metadata": {},
     "output_type": "execute_result"
    }
   ],
   "source": [
    "covid_df.tail(5)"
   ]
  },
  {
   "attachments": {},
   "cell_type": "markdown",
   "metadata": {},
   "source": [
    "<i>Table showing Covid deaths in Each Region by year, sex and age</i>\n",
    "\n",
    "#### <i>Notes on the Column</i>\n",
    "The notes on the WHO excel sheet has the following explanation on the column names\n",
    "<ul>\n",
    "    \n",
    "<li>location =>\tRegion (Global or WHO region), AFR: African Region; AMR: Region of the Americas; EMR: Eastern Mediterranean Region; EUR: European Region; WPR: Western Pacific Region; SEAR: South-East Asia Region\t\n",
    "</li><li>year =>\tYear of death\t\n",
    "</li><li>sex\t=> Sex (Female or Male)\t\n",
    "</li><li>age\t=> Age-group from 0 to 80 plus\t\n",
    "</li><li>Nx\t=> Sex- and age-specific population number\t\n",
    "</li><li>type => Estimate type for select year (reported or predicted)\t\n",
    "</li><li>expected.mean =>\tExpected deaths from all-causes by age, sex and year (mean)\t\n",
    "</li><li>acm.mean =>\tEstimated deaths from all-causes by by age, sex and year (mean)\t\n",
    "</li><li>excess.mean =>\tExcess deaths associated with COVID-19 pandemic from all-causes by age, sex and year (mean)\t</li>\n",
    "    </ul>\n"
   ]
  },
  {
   "cell_type": "markdown",
   "metadata": {},
   "source": [
    "#### Column Reselection\n",
    "We re-choose only columns relevant to our study and drop others. Then rename to our choice.\n",
    "\n",
    "We drop the following columns\n",
    "<ol><li>type</li><li> expected.mean, and</li><li> acm.mean.</li></ol>\n"
   ]
  },
  {
   "cell_type": "code",
   "execution_count": 106,
   "metadata": {},
   "outputs": [],
   "source": [
    "covid_df = covid_df[['location', 'year', 'sex', 'age', 'Nx', 'excess.mean']] # retained columns"
   ]
  },
  {
   "cell_type": "code",
   "execution_count": 107,
   "metadata": {},
   "outputs": [
    {
     "data": {
      "text/html": [
       "<div>\n",
       "<style scoped>\n",
       "    .dataframe tbody tr th:only-of-type {\n",
       "        vertical-align: middle;\n",
       "    }\n",
       "\n",
       "    .dataframe tbody tr th {\n",
       "        vertical-align: top;\n",
       "    }\n",
       "\n",
       "    .dataframe thead th {\n",
       "        text-align: right;\n",
       "    }\n",
       "</style>\n",
       "<table border=\"1\" class=\"dataframe\">\n",
       "  <thead>\n",
       "    <tr style=\"text-align: right;\">\n",
       "      <th></th>\n",
       "      <th>Region</th>\n",
       "      <th>Year</th>\n",
       "      <th>Sex</th>\n",
       "      <th>Age</th>\n",
       "      <th>Population</th>\n",
       "      <th>Deaths</th>\n",
       "    </tr>\n",
       "  </thead>\n",
       "  <tbody>\n",
       "    <tr>\n",
       "      <th>15</th>\n",
       "      <td>Global</td>\n",
       "      <td>2021</td>\n",
       "      <td>Female</td>\n",
       "      <td>25 to 39</td>\n",
       "      <td>854657794</td>\n",
       "      <td>112998</td>\n",
       "    </tr>\n",
       "    <tr>\n",
       "      <th>16</th>\n",
       "      <td>Global</td>\n",
       "      <td>2021</td>\n",
       "      <td>Female</td>\n",
       "      <td>40 to 49</td>\n",
       "      <td>483126003</td>\n",
       "      <td>223853</td>\n",
       "    </tr>\n",
       "    <tr>\n",
       "      <th>17</th>\n",
       "      <td>Global</td>\n",
       "      <td>2021</td>\n",
       "      <td>Female</td>\n",
       "      <td>50 to 59</td>\n",
       "      <td>423939051</td>\n",
       "      <td>572093</td>\n",
       "    </tr>\n",
       "    <tr>\n",
       "      <th>18</th>\n",
       "      <td>Global</td>\n",
       "      <td>2021</td>\n",
       "      <td>Female</td>\n",
       "      <td>60 to 69</td>\n",
       "      <td>310302230</td>\n",
       "      <td>1131447</td>\n",
       "    </tr>\n",
       "    <tr>\n",
       "      <th>19</th>\n",
       "      <td>Global</td>\n",
       "      <td>2021</td>\n",
       "      <td>Female</td>\n",
       "      <td>70 to 79</td>\n",
       "      <td>176323877</td>\n",
       "      <td>1173664</td>\n",
       "    </tr>\n",
       "  </tbody>\n",
       "</table>\n",
       "</div>"
      ],
      "text/plain": [
       "    Region  Year     Sex       Age  Population   Deaths\n",
       "15  Global  2021  Female  25 to 39   854657794   112998\n",
       "16  Global  2021  Female  40 to 49   483126003   223853\n",
       "17  Global  2021  Female  50 to 59   423939051   572093\n",
       "18  Global  2021  Female  60 to 69   310302230  1131447\n",
       "19  Global  2021  Female  70 to 79   176323877  1173664"
      ]
     },
     "execution_count": 107,
     "metadata": {},
     "output_type": "execute_result"
    }
   ],
   "source": [
    "# Hold column names with variables\n",
    "LOC='Region'\n",
    "YEAR='Year'\n",
    "SEX='Sex'\n",
    "AGE='Age'\n",
    "POP='Population'\n",
    "DEATHS='Deaths'\n",
    "\n",
    "# Rename column names\n",
    "covid_df.columns = [LOC, YEAR, SEX, AGE, POP, DEATHS]\n",
    "covid_df.head(20).tail() # show row 15-19"
   ]
  },
  {
   "cell_type": "markdown",
   "metadata": {},
   "source": [
    "### Data Cleaning\n",
    "The first stage of cleaning has already been done, that is, the removal of unneeded columns in the reading of the excel file.\n",
    "Next, we check that we have the correct data type in every column. We also check for invalid data\n",
    "#### Data Type Check\n"
   ]
  },
  {
   "cell_type": "code",
   "execution_count": 108,
   "metadata": {},
   "outputs": [
    {
     "data": {
      "text/plain": [
       "Region        object\n",
       "Year           int64\n",
       "Sex           object\n",
       "Age           object\n",
       "Population     int64\n",
       "Deaths         int64\n",
       "dtype: object"
      ]
     },
     "execution_count": 108,
     "metadata": {},
     "output_type": "execute_result"
    }
   ],
   "source": [
    "covid_df.dtypes"
   ]
  },
  {
   "cell_type": "markdown",
   "metadata": {},
   "source": [
    "#### Invalid Data Check\n",
    "Find any NAN row"
   ]
  },
  {
   "cell_type": "code",
   "execution_count": 109,
   "metadata": {},
   "outputs": [
    {
     "data": {
      "text/plain": [
       "['The number of invalid rows in each column = ', (0, 0, 0, 0, 0, 0)]"
      ]
     },
     "execution_count": 109,
     "metadata": {},
     "output_type": "execute_result"
    }
   ],
   "source": [
    "[\"The number of invalid rows in each column = \",(\n",
    "    len(covid_df[covid_df[LOC].isnull()]),\n",
    "    len(covid_df[covid_df[YEAR].isnull()]), \n",
    "    len(covid_df[covid_df[SEX].isnull()]),\n",
    "    len(covid_df[covid_df[AGE].isnull()]),\n",
    "    len(covid_df[covid_df[POP].isnull()]),\n",
    "    len(covid_df[covid_df[DEATHS].isnull()])\n",
    ")]"
   ]
  },
  {
   "cell_type": "markdown",
   "metadata": {},
   "source": [
    "The datasets are clean.\n",
    "Let's visualize in graphical form"
   ]
  },
  {
   "cell_type": "code",
   "execution_count": 110,
   "metadata": {},
   "outputs": [
    {
     "data": {
      "text/html": [
       "<div>\n",
       "<style scoped>\n",
       "    .dataframe tbody tr th:only-of-type {\n",
       "        vertical-align: middle;\n",
       "    }\n",
       "\n",
       "    .dataframe tbody tr th {\n",
       "        vertical-align: top;\n",
       "    }\n",
       "\n",
       "    .dataframe thead th {\n",
       "        text-align: right;\n",
       "    }\n",
       "</style>\n",
       "<table border=\"1\" class=\"dataframe\">\n",
       "  <thead>\n",
       "    <tr style=\"text-align: right;\">\n",
       "      <th></th>\n",
       "      <th>Region</th>\n",
       "      <th>Year</th>\n",
       "      <th>Sex</th>\n",
       "      <th>Age</th>\n",
       "      <th>Population</th>\n",
       "      <th>Deaths</th>\n",
       "    </tr>\n",
       "  </thead>\n",
       "  <tbody>\n",
       "    <tr>\n",
       "      <th>0</th>\n",
       "      <td>Global</td>\n",
       "      <td>2020</td>\n",
       "      <td>Female</td>\n",
       "      <td>0 to 24</td>\n",
       "      <td>1538964911</td>\n",
       "      <td>-21329</td>\n",
       "    </tr>\n",
       "    <tr>\n",
       "      <th>1</th>\n",
       "      <td>Global</td>\n",
       "      <td>2020</td>\n",
       "      <td>Female</td>\n",
       "      <td>25 to 39</td>\n",
       "      <td>849485348</td>\n",
       "      <td>-55087</td>\n",
       "    </tr>\n",
       "    <tr>\n",
       "      <th>2</th>\n",
       "      <td>Global</td>\n",
       "      <td>2020</td>\n",
       "      <td>Female</td>\n",
       "      <td>40 to 49</td>\n",
       "      <td>479860230</td>\n",
       "      <td>24798</td>\n",
       "    </tr>\n",
       "    <tr>\n",
       "      <th>3</th>\n",
       "      <td>Global</td>\n",
       "      <td>2020</td>\n",
       "      <td>Female</td>\n",
       "      <td>50 to 59</td>\n",
       "      <td>416231682</td>\n",
       "      <td>182403</td>\n",
       "    </tr>\n",
       "    <tr>\n",
       "      <th>4</th>\n",
       "      <td>Global</td>\n",
       "      <td>2020</td>\n",
       "      <td>Female</td>\n",
       "      <td>60 to 69</td>\n",
       "      <td>303533101</td>\n",
       "      <td>503033</td>\n",
       "    </tr>\n",
       "    <tr>\n",
       "      <th>...</th>\n",
       "      <td>...</td>\n",
       "      <td>...</td>\n",
       "      <td>...</td>\n",
       "      <td>...</td>\n",
       "      <td>...</td>\n",
       "      <td>...</td>\n",
       "    </tr>\n",
       "    <tr>\n",
       "      <th>191</th>\n",
       "      <td>WPR</td>\n",
       "      <td>2021</td>\n",
       "      <td>Male</td>\n",
       "      <td>40 to 49</td>\n",
       "      <td>140741238</td>\n",
       "      <td>-17191</td>\n",
       "    </tr>\n",
       "    <tr>\n",
       "      <th>192</th>\n",
       "      <td>WPR</td>\n",
       "      <td>2021</td>\n",
       "      <td>Male</td>\n",
       "      <td>50 to 59</td>\n",
       "      <td>144547081</td>\n",
       "      <td>29998</td>\n",
       "    </tr>\n",
       "    <tr>\n",
       "      <th>193</th>\n",
       "      <td>WPR</td>\n",
       "      <td>2021</td>\n",
       "      <td>Male</td>\n",
       "      <td>60 to 69</td>\n",
       "      <td>98388414</td>\n",
       "      <td>123617</td>\n",
       "    </tr>\n",
       "    <tr>\n",
       "      <th>194</th>\n",
       "      <td>WPR</td>\n",
       "      <td>2021</td>\n",
       "      <td>Male</td>\n",
       "      <td>70 to 79</td>\n",
       "      <td>49958251</td>\n",
       "      <td>113035</td>\n",
       "    </tr>\n",
       "    <tr>\n",
       "      <th>195</th>\n",
       "      <td>WPR</td>\n",
       "      <td>2021</td>\n",
       "      <td>Male</td>\n",
       "      <td>80 plus</td>\n",
       "      <td>18062304</td>\n",
       "      <td>-37831</td>\n",
       "    </tr>\n",
       "  </tbody>\n",
       "</table>\n",
       "<p>196 rows × 6 columns</p>\n",
       "</div>"
      ],
      "text/plain": [
       "     Region  Year     Sex       Age  Population  Deaths\n",
       "0    Global  2020  Female   0 to 24  1538964911  -21329\n",
       "1    Global  2020  Female  25 to 39   849485348  -55087\n",
       "2    Global  2020  Female  40 to 49   479860230   24798\n",
       "3    Global  2020  Female  50 to 59   416231682  182403\n",
       "4    Global  2020  Female  60 to 69   303533101  503033\n",
       "..      ...   ...     ...       ...         ...     ...\n",
       "191     WPR  2021    Male  40 to 49   140741238  -17191\n",
       "192     WPR  2021    Male  50 to 59   144547081   29998\n",
       "193     WPR  2021    Male  60 to 69    98388414  123617\n",
       "194     WPR  2021    Male  70 to 79    49958251  113035\n",
       "195     WPR  2021    Male   80 plus    18062304  -37831\n",
       "\n",
       "[196 rows x 6 columns]"
      ]
     },
     "execution_count": 110,
     "metadata": {},
     "output_type": "execute_result"
    }
   ],
   "source": [
    "covid_df"
   ]
  },
  {
   "cell_type": "code",
   "execution_count": 111,
   "metadata": {
    "scrolled": true
   },
   "outputs": [
    {
     "data": {
      "text/plain": [
       "<AxesSubplot:title={'center':'Deaths Due to COVID'}>"
      ]
     },
     "execution_count": 111,
     "metadata": {},
     "output_type": "execute_result"
    },
    {
     "data": {
      "image/png": "[encoded data removed]",
      "text/plain": [
       "<Figure size 864x360 with 1 Axes>"
      ]
     },
     "metadata": {
      "needs_background": "light"
     },
     "output_type": "display_data"
    }
   ],
   "source": [
    "\n",
    "%matplotlib inline\n",
    "covid_df[DEATHS].plot(grid=True, figsize=(12,5), title='Deaths Due to COVID')"
   ]
  },
  {
   "cell_type": "markdown",
   "metadata": {},
   "source": [
    "Death figures alone cannot form a fair basis for comparison if we do not consider the population of the group we are comparing. Therefore we create another column 'Death Rate' that is simply a division of deaths by number of persons in the group."
   ]
  },
  {
   "cell_type": "code",
   "execution_count": 120,
   "metadata": {
    "scrolled": true
   },
   "outputs": [
    {
     "data": {
      "text/html": [
       "<div>\n",
       "<style scoped>\n",
       "    .dataframe tbody tr th:only-of-type {\n",
       "        vertical-align: middle;\n",
       "    }\n",
       "\n",
       "    .dataframe tbody tr th {\n",
       "        vertical-align: top;\n",
       "    }\n",
       "\n",
       "    .dataframe thead th {\n",
       "        text-align: right;\n",
       "    }\n",
       "</style>\n",
       "<table border=\"1\" class=\"dataframe\">\n",
       "  <thead>\n",
       "    <tr style=\"text-align: right;\">\n",
       "      <th></th>\n",
       "      <th>Region</th>\n",
       "      <th>Year</th>\n",
       "      <th>Sex</th>\n",
       "      <th>Age</th>\n",
       "      <th>Population</th>\n",
       "      <th>Deaths</th>\n",
       "      <th>Death Rate (Per Million)</th>\n",
       "    </tr>\n",
       "  </thead>\n",
       "  <tbody>\n",
       "    <tr>\n",
       "      <th>0</th>\n",
       "      <td>Global</td>\n",
       "      <td>2020</td>\n",
       "      <td>Female</td>\n",
       "      <td>0 to 24</td>\n",
       "      <td>1538964911</td>\n",
       "      <td>-21329</td>\n",
       "      <td>-13.859315</td>\n",
       "    </tr>\n",
       "    <tr>\n",
       "      <th>1</th>\n",
       "      <td>Global</td>\n",
       "      <td>2020</td>\n",
       "      <td>Female</td>\n",
       "      <td>25 to 39</td>\n",
       "      <td>849485348</td>\n",
       "      <td>-55087</td>\n",
       "      <td>-64.847499</td>\n",
       "    </tr>\n",
       "    <tr>\n",
       "      <th>2</th>\n",
       "      <td>Global</td>\n",
       "      <td>2020</td>\n",
       "      <td>Female</td>\n",
       "      <td>40 to 49</td>\n",
       "      <td>479860230</td>\n",
       "      <td>24798</td>\n",
       "      <td>51.677548</td>\n",
       "    </tr>\n",
       "    <tr>\n",
       "      <th>3</th>\n",
       "      <td>Global</td>\n",
       "      <td>2020</td>\n",
       "      <td>Female</td>\n",
       "      <td>50 to 59</td>\n",
       "      <td>416231682</td>\n",
       "      <td>182403</td>\n",
       "      <td>438.224690</td>\n",
       "    </tr>\n",
       "    <tr>\n",
       "      <th>4</th>\n",
       "      <td>Global</td>\n",
       "      <td>2020</td>\n",
       "      <td>Female</td>\n",
       "      <td>60 to 69</td>\n",
       "      <td>303533101</td>\n",
       "      <td>503033</td>\n",
       "      <td>1657.259120</td>\n",
       "    </tr>\n",
       "    <tr>\n",
       "      <th>5</th>\n",
       "      <td>Global</td>\n",
       "      <td>2020</td>\n",
       "      <td>Female</td>\n",
       "      <td>70 to 79</td>\n",
       "      <td>169385113</td>\n",
       "      <td>510922</td>\n",
       "      <td>3016.333555</td>\n",
       "    </tr>\n",
       "    <tr>\n",
       "      <th>6</th>\n",
       "      <td>Global</td>\n",
       "      <td>2020</td>\n",
       "      <td>Female</td>\n",
       "      <td>80 plus</td>\n",
       "      <td>88885126</td>\n",
       "      <td>762927</td>\n",
       "      <td>8583.292102</td>\n",
       "    </tr>\n",
       "    <tr>\n",
       "      <th>7</th>\n",
       "      <td>Global</td>\n",
       "      <td>2020</td>\n",
       "      <td>Male</td>\n",
       "      <td>0 to 24</td>\n",
       "      <td>1642942104</td>\n",
       "      <td>-32085</td>\n",
       "      <td>-19.528990</td>\n",
       "    </tr>\n",
       "    <tr>\n",
       "      <th>8</th>\n",
       "      <td>Global</td>\n",
       "      <td>2020</td>\n",
       "      <td>Male</td>\n",
       "      <td>25 to 39</td>\n",
       "      <td>887853298</td>\n",
       "      <td>-144675</td>\n",
       "      <td>-162.949217</td>\n",
       "    </tr>\n",
       "    <tr>\n",
       "      <th>9</th>\n",
       "      <td>Global</td>\n",
       "      <td>2020</td>\n",
       "      <td>Male</td>\n",
       "      <td>40 to 49</td>\n",
       "      <td>488028531</td>\n",
       "      <td>36783</td>\n",
       "      <td>75.370593</td>\n",
       "    </tr>\n",
       "  </tbody>\n",
       "</table>\n",
       "</div>"
      ],
      "text/plain": [
       "   Region  Year     Sex       Age  Population  Deaths  \\\n",
       "0  Global  2020  Female   0 to 24  1538964911  -21329   \n",
       "1  Global  2020  Female  25 to 39   849485348  -55087   \n",
       "2  Global  2020  Female  40 to 49   479860230   24798   \n",
       "3  Global  2020  Female  50 to 59   416231682  182403   \n",
       "4  Global  2020  Female  60 to 69   303533101  503033   \n",
       "5  Global  2020  Female  70 to 79   169385113  510922   \n",
       "6  Global  2020  Female   80 plus    88885126  762927   \n",
       "7  Global  2020    Male   0 to 24  1642942104  -32085   \n",
       "8  Global  2020    Male  25 to 39   887853298 -144675   \n",
       "9  Global  2020    Male  40 to 49   488028531   36783   \n",
       "\n",
       "   Death Rate (Per Million)  \n",
       "0                -13.859315  \n",
       "1                -64.847499  \n",
       "2                 51.677548  \n",
       "3                438.224690  \n",
       "4               1657.259120  \n",
       "5               3016.333555  \n",
       "6               8583.292102  \n",
       "7                -19.528990  \n",
       "8               -162.949217  \n",
       "9                 75.370593  "
      ]
     },
     "execution_count": 120,
     "metadata": {},
     "output_type": "execute_result"
    }
   ],
   "source": [
    "RATE='Death Rate (Per Million)'\n",
    "covid_df[RATE] = covid_df[DEATHS]/covid_df[POP] *1000000\n",
    "covid_df.head(10)"
   ]
  },
  {
   "cell_type": "markdown",
   "metadata": {},
   "source": [
    "Let's round to nearest million by using a function roundRate, and then use the apply method to overwrite the Death Rate column"
   ]
  },
  {
   "cell_type": "code",
   "execution_count": 121,
   "metadata": {
    "scrolled": true
   },
   "outputs": [
    {
     "data": {
      "text/html": [
       "<div>\n",
       "<style scoped>\n",
       "    .dataframe tbody tr th:only-of-type {\n",
       "        vertical-align: middle;\n",
       "    }\n",
       "\n",
       "    .dataframe tbody tr th {\n",
       "        vertical-align: top;\n",
       "    }\n",
       "\n",
       "    .dataframe thead th {\n",
       "        text-align: right;\n",
       "    }\n",
       "</style>\n",
       "<table border=\"1\" class=\"dataframe\">\n",
       "  <thead>\n",
       "    <tr style=\"text-align: right;\">\n",
       "      <th></th>\n",
       "      <th>Region</th>\n",
       "      <th>Year</th>\n",
       "      <th>Sex</th>\n",
       "      <th>Age</th>\n",
       "      <th>Population</th>\n",
       "      <th>Deaths</th>\n",
       "      <th>Death Rate (Per Million)</th>\n",
       "    </tr>\n",
       "  </thead>\n",
       "  <tbody>\n",
       "    <tr>\n",
       "      <th>0</th>\n",
       "      <td>Global</td>\n",
       "      <td>2020</td>\n",
       "      <td>Female</td>\n",
       "      <td>0 to 24</td>\n",
       "      <td>1538964911</td>\n",
       "      <td>-21329</td>\n",
       "      <td>-14</td>\n",
       "    </tr>\n",
       "    <tr>\n",
       "      <th>1</th>\n",
       "      <td>Global</td>\n",
       "      <td>2020</td>\n",
       "      <td>Female</td>\n",
       "      <td>25 to 39</td>\n",
       "      <td>849485348</td>\n",
       "      <td>-55087</td>\n",
       "      <td>-65</td>\n",
       "    </tr>\n",
       "    <tr>\n",
       "      <th>2</th>\n",
       "      <td>Global</td>\n",
       "      <td>2020</td>\n",
       "      <td>Female</td>\n",
       "      <td>40 to 49</td>\n",
       "      <td>479860230</td>\n",
       "      <td>24798</td>\n",
       "      <td>52</td>\n",
       "    </tr>\n",
       "    <tr>\n",
       "      <th>3</th>\n",
       "      <td>Global</td>\n",
       "      <td>2020</td>\n",
       "      <td>Female</td>\n",
       "      <td>50 to 59</td>\n",
       "      <td>416231682</td>\n",
       "      <td>182403</td>\n",
       "      <td>438</td>\n",
       "    </tr>\n",
       "    <tr>\n",
       "      <th>4</th>\n",
       "      <td>Global</td>\n",
       "      <td>2020</td>\n",
       "      <td>Female</td>\n",
       "      <td>60 to 69</td>\n",
       "      <td>303533101</td>\n",
       "      <td>503033</td>\n",
       "      <td>1657</td>\n",
       "    </tr>\n",
       "    <tr>\n",
       "      <th>5</th>\n",
       "      <td>Global</td>\n",
       "      <td>2020</td>\n",
       "      <td>Female</td>\n",
       "      <td>70 to 79</td>\n",
       "      <td>169385113</td>\n",
       "      <td>510922</td>\n",
       "      <td>3016</td>\n",
       "    </tr>\n",
       "    <tr>\n",
       "      <th>6</th>\n",
       "      <td>Global</td>\n",
       "      <td>2020</td>\n",
       "      <td>Female</td>\n",
       "      <td>80 plus</td>\n",
       "      <td>88885126</td>\n",
       "      <td>762927</td>\n",
       "      <td>8583</td>\n",
       "    </tr>\n",
       "  </tbody>\n",
       "</table>\n",
       "</div>"
      ],
      "text/plain": [
       "   Region  Year     Sex       Age  Population  Deaths  \\\n",
       "0  Global  2020  Female   0 to 24  1538964911  -21329   \n",
       "1  Global  2020  Female  25 to 39   849485348  -55087   \n",
       "2  Global  2020  Female  40 to 49   479860230   24798   \n",
       "3  Global  2020  Female  50 to 59   416231682  182403   \n",
       "4  Global  2020  Female  60 to 69   303533101  503033   \n",
       "5  Global  2020  Female  70 to 79   169385113  510922   \n",
       "6  Global  2020  Female   80 plus    88885126  762927   \n",
       "\n",
       "   Death Rate (Per Million)  \n",
       "0                       -14  \n",
       "1                       -65  \n",
       "2                        52  \n",
       "3                       438  \n",
       "4                      1657  \n",
       "5                      3016  \n",
       "6                      8583  "
      ]
     },
     "execution_count": 121,
     "metadata": {},
     "output_type": "execute_result"
    }
   ],
   "source": [
    "def roundRate(x):\n",
    "    return round(x)\n",
    "\n",
    "covid_df[RATE]=covid_df[RATE].apply(roundRate)\n",
    "covid_df.head(7)"
   ]
  },
  {
   "cell_type": "markdown",
   "metadata": {},
   "source": [
    "### SUM across each region\n",
    "Below shows the sum of people and covid-19 death rates across each region. The values are sorted by death rate. Western Pacific Region seems to have the least total death rates."
   ]
  },
  {
   "cell_type": "code",
   "execution_count": 125,
   "metadata": {},
   "outputs": [
    {
     "data": {
      "text/html": [
       "<div>\n",
       "<style scoped>\n",
       "    .dataframe tbody tr th:only-of-type {\n",
       "        vertical-align: middle;\n",
       "    }\n",
       "\n",
       "    .dataframe tbody tr th {\n",
       "        vertical-align: top;\n",
       "    }\n",
       "\n",
       "    .dataframe thead th {\n",
       "        text-align: right;\n",
       "    }\n",
       "</style>\n",
       "<table border=\"1\" class=\"dataframe\">\n",
       "  <thead>\n",
       "    <tr style=\"text-align: right;\">\n",
       "      <th></th>\n",
       "      <th>Population</th>\n",
       "      <th>Death Rate (Per Million)</th>\n",
       "    </tr>\n",
       "    <tr>\n",
       "      <th>Region</th>\n",
       "      <th></th>\n",
       "      <th></th>\n",
       "    </tr>\n",
       "  </thead>\n",
       "  <tbody>\n",
       "    <tr>\n",
       "      <th>WPR</th>\n",
       "      <td>3888001390</td>\n",
       "      <td>-642</td>\n",
       "    </tr>\n",
       "    <tr>\n",
       "      <th>Global</th>\n",
       "      <td>15596307983</td>\n",
       "      <td>103037</td>\n",
       "    </tr>\n",
       "    <tr>\n",
       "      <th>EUR</th>\n",
       "      <td>1867899036</td>\n",
       "      <td>105831</td>\n",
       "    </tr>\n",
       "    <tr>\n",
       "      <th>AMR</th>\n",
       "      <td>2044283270</td>\n",
       "      <td>126400</td>\n",
       "    </tr>\n",
       "    <tr>\n",
       "      <th>EMR</th>\n",
       "      <td>1465099745</td>\n",
       "      <td>180851</td>\n",
       "    </tr>\n",
       "    <tr>\n",
       "      <th>AFR</th>\n",
       "      <td>2269080073</td>\n",
       "      <td>221046</td>\n",
       "    </tr>\n",
       "    <tr>\n",
       "      <th>SEAR</th>\n",
       "      <td>4061944469</td>\n",
       "      <td>229458</td>\n",
       "    </tr>\n",
       "  </tbody>\n",
       "</table>\n",
       "</div>"
      ],
      "text/plain": [
       "         Population  Death Rate (Per Million)\n",
       "Region                                       \n",
       "WPR      3888001390                      -642\n",
       "Global  15596307983                    103037\n",
       "EUR      1867899036                    105831\n",
       "AMR      2044283270                    126400\n",
       "EMR      1465099745                    180851\n",
       "AFR      2269080073                    221046\n",
       "SEAR     4061944469                    229458"
      ]
     },
     "execution_count": 125,
     "metadata": {},
     "output_type": "execute_result"
    }
   ],
   "source": [
    "region = covid_df.groupby(LOC)\n",
    "table = region[POP, RATE].aggregate(sum)\n",
    "table.sort_values(RATE)"
   ]
  },
  {
   "cell_type": "code",
   "execution_count": 131,
   "metadata": {
    "scrolled": true
   },
   "outputs": [
    {
     "data": {
      "text/plain": [
       "<AxesSubplot:xlabel='Region'>"
      ]
     },
     "execution_count": 131,
     "metadata": {},
     "output_type": "execute_result"
    },
    {
     "data": {
      "image/png": "[encoded data removed]",
      "text/plain": [
       "<Figure size 720x360 with 1 Axes>"
      ]
     },
     "metadata": {
      "needs_background": "light"
     },
     "output_type": "display_data"
    }
   ],
   "source": [
    "table.plot.bar(y=RATE, figsize=(10,5), title='Covid-19 Total Death Rate across Regions' grid=True)"
   ]
  },
  {
   "cell_type": "markdown",
   "metadata": {},
   "source": [
    "From the table and plot, SEAR has the highest death rate, while WPR has the lowest"
   ]
  },
  {
   "cell_type": "markdown",
   "metadata": {},
   "source": [
    "### Mean and median\n",
    "Let's look at the mean and median across the regions.\n",
    "Let's use the statistics module in python at this point"
   ]
  },
  {
   "cell_type": "code",
   "execution_count": 134,
   "metadata": {},
   "outputs": [],
   "source": [
    "import statistics as st"
   ]
  },
  {
   "cell_type": "code",
   "execution_count": 135,
   "metadata": {
    "scrolled": true
   },
   "outputs": [
    {
     "data": {
      "text/html": [
       "<div>\n",
       "<style scoped>\n",
       "    .dataframe tbody tr th:only-of-type {\n",
       "        vertical-align: middle;\n",
       "    }\n",
       "\n",
       "    .dataframe tbody tr th {\n",
       "        vertical-align: top;\n",
       "    }\n",
       "\n",
       "    .dataframe thead th {\n",
       "        text-align: right;\n",
       "    }\n",
       "</style>\n",
       "<table border=\"1\" class=\"dataframe\">\n",
       "  <thead>\n",
       "    <tr style=\"text-align: right;\">\n",
       "      <th></th>\n",
       "      <th>Population</th>\n",
       "      <th>Death Rate (Per Million)</th>\n",
       "    </tr>\n",
       "    <tr>\n",
       "      <th>Region</th>\n",
       "      <th></th>\n",
       "      <th></th>\n",
       "    </tr>\n",
       "  </thead>\n",
       "  <tbody>\n",
       "    <tr>\n",
       "      <th>WPR</th>\n",
       "      <td>1.388572e+08</td>\n",
       "      <td>-22.928571</td>\n",
       "    </tr>\n",
       "    <tr>\n",
       "      <th>Global</th>\n",
       "      <td>5.570110e+08</td>\n",
       "      <td>3679.892857</td>\n",
       "    </tr>\n",
       "    <tr>\n",
       "      <th>EUR</th>\n",
       "      <td>6.671068e+07</td>\n",
       "      <td>3779.678571</td>\n",
       "    </tr>\n",
       "    <tr>\n",
       "      <th>AMR</th>\n",
       "      <td>7.301012e+07</td>\n",
       "      <td>4514.285714</td>\n",
       "    </tr>\n",
       "    <tr>\n",
       "      <th>EMR</th>\n",
       "      <td>5.232499e+07</td>\n",
       "      <td>6458.964286</td>\n",
       "    </tr>\n",
       "    <tr>\n",
       "      <th>AFR</th>\n",
       "      <td>8.103857e+07</td>\n",
       "      <td>7894.500000</td>\n",
       "    </tr>\n",
       "    <tr>\n",
       "      <th>SEAR</th>\n",
       "      <td>1.450694e+08</td>\n",
       "      <td>8194.928571</td>\n",
       "    </tr>\n",
       "  </tbody>\n",
       "</table>\n",
       "</div>"
      ],
      "text/plain": [
       "          Population  Death Rate (Per Million)\n",
       "Region                                        \n",
       "WPR     1.388572e+08                -22.928571\n",
       "Global  5.570110e+08               3679.892857\n",
       "EUR     6.671068e+07               3779.678571\n",
       "AMR     7.301012e+07               4514.285714\n",
       "EMR     5.232499e+07               6458.964286\n",
       "AFR     8.103857e+07               7894.500000\n",
       "SEAR    1.450694e+08               8194.928571"
      ]
     },
     "execution_count": 135,
     "metadata": {},
     "output_type": "execute_result"
    }
   ],
   "source": [
    "table = region[POP, RATE].aggregate(st.mean)\n",
    "table.sort_values(RATE)"
   ]
  },
  {
   "cell_type": "code",
   "execution_count": 138,
   "metadata": {},
   "outputs": [
    {
     "data": {
      "text/plain": [
       "<AxesSubplot:title={'center':'Covid-19 Mean Death Rate across Regions'}, xlabel='Region'>"
      ]
     },
     "execution_count": 138,
     "metadata": {},
     "output_type": "execute_result"
    },
    {
     "data": {
      "image/png": "[encoded data removed]",
      "text/plain": [
       "<Figure size 720x360 with 1 Axes>"
      ]
     },
     "metadata": {
      "needs_background": "light"
     },
     "output_type": "display_data"
    }
   ],
   "source": [
    "table.plot.bar(y=RATE, figsize=(10,5), grid=True, legend=False, title='Covid-19 Mean Death Rate across Regions')"
   ]
  },
  {
   "cell_type": "code",
   "execution_count": 139,
   "metadata": {},
   "outputs": [
    {
     "data": {
      "text/html": [
       "<div>\n",
       "<style scoped>\n",
       "    .dataframe tbody tr th:only-of-type {\n",
       "        vertical-align: middle;\n",
       "    }\n",
       "\n",
       "    .dataframe tbody tr th {\n",
       "        vertical-align: top;\n",
       "    }\n",
       "\n",
       "    .dataframe thead th {\n",
       "        text-align: right;\n",
       "    }\n",
       "</style>\n",
       "<table border=\"1\" class=\"dataframe\">\n",
       "  <thead>\n",
       "    <tr style=\"text-align: right;\">\n",
       "      <th></th>\n",
       "      <th>Population</th>\n",
       "      <th>Death Rate (Per Million)</th>\n",
       "    </tr>\n",
       "    <tr>\n",
       "      <th>Region</th>\n",
       "      <th></th>\n",
       "      <th></th>\n",
       "    </tr>\n",
       "  </thead>\n",
       "  <tbody>\n",
       "    <tr>\n",
       "      <th>WPR</th>\n",
       "      <td>138834696.0</td>\n",
       "      <td>-4.0</td>\n",
       "    </tr>\n",
       "    <tr>\n",
       "      <th>EUR</th>\n",
       "      <td>61340595.5</td>\n",
       "      <td>1028.5</td>\n",
       "    </tr>\n",
       "    <tr>\n",
       "      <th>Global</th>\n",
       "      <td>418115603.5</td>\n",
       "      <td>1057.5</td>\n",
       "    </tr>\n",
       "    <tr>\n",
       "      <th>EMR</th>\n",
       "      <td>27415160.5</td>\n",
       "      <td>1422.5</td>\n",
       "    </tr>\n",
       "    <tr>\n",
       "      <th>AFR</th>\n",
       "      <td>30144201.5</td>\n",
       "      <td>1495.0</td>\n",
       "    </tr>\n",
       "    <tr>\n",
       "      <th>AMR</th>\n",
       "      <td>57622395.5</td>\n",
       "      <td>1923.5</td>\n",
       "    </tr>\n",
       "    <tr>\n",
       "      <th>SEAR</th>\n",
       "      <td>99679817.0</td>\n",
       "      <td>1934.0</td>\n",
       "    </tr>\n",
       "  </tbody>\n",
       "</table>\n",
       "</div>"
      ],
      "text/plain": [
       "         Population  Death Rate (Per Million)\n",
       "Region                                       \n",
       "WPR     138834696.0                      -4.0\n",
       "EUR      61340595.5                    1028.5\n",
       "Global  418115603.5                    1057.5\n",
       "EMR      27415160.5                    1422.5\n",
       "AFR      30144201.5                    1495.0\n",
       "AMR      57622395.5                    1923.5\n",
       "SEAR     99679817.0                    1934.0"
      ]
     },
     "execution_count": 139,
     "metadata": {},
     "output_type": "execute_result"
    }
   ],
   "source": [
    "table = region[POP, RATE].aggregate(st.median)\n",
    "table.sort_values(RATE)"
   ]
  },
  {
   "cell_type": "code",
   "execution_count": 140,
   "metadata": {},
   "outputs": [
    {
     "data": {
      "text/plain": [
       "<AxesSubplot:title={'center':'Covid-19 Median Death Rate across Regions'}, xlabel='Region'>"
      ]
     },
     "execution_count": 140,
     "metadata": {},
     "output_type": "execute_result"
    },
    {
     "data": {
      "image/png": "[encoded data removed]",
      "text/plain": [
       "<Figure size 720x360 with 1 Axes>"
      ]
     },
     "metadata": {
      "needs_background": "light"
     },
     "output_type": "display_data"
    }
   ],
   "source": [
    "table.plot.bar(y=RATE, figsize=(10,5), grid=True, legend=False, title='Covid-19 Median Death Rate across Regions')"
   ]
  },
  {
   "cell_type": "markdown",
   "metadata": {},
   "source": [
    "### Grouping by Gender\n",
    "Let's group by Gender"
   ]
  },
  {
   "cell_type": "code",
   "execution_count": 143,
   "metadata": {},
   "outputs": [
    {
     "data": {
      "text/plain": [
       "Sex\n",
       "Female    3931.316327\n",
       "Male      5925.632653\n",
       "Name: Death Rate (Per Million), dtype: float64"
      ]
     },
     "execution_count": 143,
     "metadata": {},
     "output_type": "execute_result"
    }
   ],
   "source": [
    "sex = covid_df.groupby(SEX)\n",
    "table = sex[RATE].aggregate(st.mean)\n",
    "table"
   ]
  },
  {
   "cell_type": "markdown",
   "metadata": {},
   "source": [
    "### Region and Gender"
   ]
  },
  {
   "cell_type": "code",
   "execution_count": 149,
   "metadata": {},
   "outputs": [
    {
     "data": {
      "text/html": [
       "<div>\n",
       "<style scoped>\n",
       "    .dataframe tbody tr th:only-of-type {\n",
       "        vertical-align: middle;\n",
       "    }\n",
       "\n",
       "    .dataframe tbody tr th {\n",
       "        vertical-align: top;\n",
       "    }\n",
       "\n",
       "    .dataframe thead th {\n",
       "        text-align: right;\n",
       "    }\n",
       "</style>\n",
       "<table border=\"1\" class=\"dataframe\">\n",
       "  <thead>\n",
       "    <tr style=\"text-align: right;\">\n",
       "      <th></th>\n",
       "      <th></th>\n",
       "      <th>Population</th>\n",
       "      <th>Death Rate (Per Million)</th>\n",
       "    </tr>\n",
       "    <tr>\n",
       "      <th>Region</th>\n",
       "      <th>Sex</th>\n",
       "      <th></th>\n",
       "      <th></th>\n",
       "    </tr>\n",
       "  </thead>\n",
       "  <tbody>\n",
       "    <tr>\n",
       "      <th rowspan=\"2\" valign=\"top\">AFR</th>\n",
       "      <th>Female</th>\n",
       "      <td>8.114499e+07</td>\n",
       "      <td>6473.785714</td>\n",
       "    </tr>\n",
       "    <tr>\n",
       "      <th>Male</th>\n",
       "      <td>8.093215e+07</td>\n",
       "      <td>9315.214286</td>\n",
       "    </tr>\n",
       "    <tr>\n",
       "      <th rowspan=\"2\" valign=\"top\">AMR</th>\n",
       "      <th>Female</th>\n",
       "      <td>7.402934e+07</td>\n",
       "      <td>3215.642857</td>\n",
       "    </tr>\n",
       "    <tr>\n",
       "      <th>Male</th>\n",
       "      <td>7.199090e+07</td>\n",
       "      <td>5812.928571</td>\n",
       "    </tr>\n",
       "    <tr>\n",
       "      <th rowspan=\"2\" valign=\"top\">EMR</th>\n",
       "      <th>Female</th>\n",
       "      <td>5.061975e+07</td>\n",
       "      <td>5297.357143</td>\n",
       "    </tr>\n",
       "    <tr>\n",
       "      <th>Male</th>\n",
       "      <td>5.403023e+07</td>\n",
       "      <td>7620.571429</td>\n",
       "    </tr>\n",
       "    <tr>\n",
       "      <th rowspan=\"2\" valign=\"top\">EUR</th>\n",
       "      <th>Female</th>\n",
       "      <td>6.868130e+07</td>\n",
       "      <td>2913.714286</td>\n",
       "    </tr>\n",
       "    <tr>\n",
       "      <th>Male</th>\n",
       "      <td>6.474006e+07</td>\n",
       "      <td>4645.642857</td>\n",
       "    </tr>\n",
       "    <tr>\n",
       "      <th rowspan=\"2\" valign=\"top\">Global</th>\n",
       "      <th>Female</th>\n",
       "      <td>5.523211e+08</td>\n",
       "      <td>2872.357143</td>\n",
       "    </tr>\n",
       "    <tr>\n",
       "      <th>Male</th>\n",
       "      <td>5.617009e+08</td>\n",
       "      <td>4487.428571</td>\n",
       "    </tr>\n",
       "    <tr>\n",
       "      <th rowspan=\"2\" valign=\"top\">SEAR</th>\n",
       "      <th>Female</th>\n",
       "      <td>1.414570e+08</td>\n",
       "      <td>6655.000000</td>\n",
       "    </tr>\n",
       "    <tr>\n",
       "      <th>Male</th>\n",
       "      <td>1.486819e+08</td>\n",
       "      <td>9734.857143</td>\n",
       "    </tr>\n",
       "    <tr>\n",
       "      <th rowspan=\"2\" valign=\"top\">WPR</th>\n",
       "      <th>Female</th>\n",
       "      <td>1.363888e+08</td>\n",
       "      <td>91.357143</td>\n",
       "    </tr>\n",
       "    <tr>\n",
       "      <th>Male</th>\n",
       "      <td>1.413256e+08</td>\n",
       "      <td>-137.214286</td>\n",
       "    </tr>\n",
       "  </tbody>\n",
       "</table>\n",
       "</div>"
      ],
      "text/plain": [
       "                 Population  Death Rate (Per Million)\n",
       "Region Sex                                           \n",
       "AFR    Female  8.114499e+07               6473.785714\n",
       "       Male    8.093215e+07               9315.214286\n",
       "AMR    Female  7.402934e+07               3215.642857\n",
       "       Male    7.199090e+07               5812.928571\n",
       "EMR    Female  5.061975e+07               5297.357143\n",
       "       Male    5.403023e+07               7620.571429\n",
       "EUR    Female  6.868130e+07               2913.714286\n",
       "       Male    6.474006e+07               4645.642857\n",
       "Global Female  5.523211e+08               2872.357143\n",
       "       Male    5.617009e+08               4487.428571\n",
       "SEAR   Female  1.414570e+08               6655.000000\n",
       "       Male    1.486819e+08               9734.857143\n",
       "WPR    Female  1.363888e+08                 91.357143\n",
       "       Male    1.413256e+08               -137.214286"
      ]
     },
     "execution_count": 149,
     "metadata": {},
     "output_type": "execute_result"
    }
   ],
   "source": [
    "region_sex = covid_df.groupby([LOC,SEX])\n",
    "table = region_sex[POP, RATE].aggregate(st.mean)\n",
    "table"
   ]
  },
  {
   "cell_type": "code",
   "execution_count": 147,
   "metadata": {},
   "outputs": [
    {
     "data": {
      "text/plain": [
       "<AxesSubplot:title={'center':'Covid-19 Median Death Rate across Regions & Gender'}, xlabel='Region,Sex'>"
      ]
     },
     "execution_count": 147,
     "metadata": {},
     "output_type": "execute_result"
    },
    {
     "data": {
      "image/png": "[encoded data removed]",
      "text/plain": [
       "<Figure size 720x360 with 1 Axes>"
      ]
     },
     "metadata": {
      "needs_background": "light"
     },
     "output_type": "display_data"
    }
   ],
   "source": [
    "table.plot.bar(y=RATE, figsize=(10,5), grid=True, legend=False, title='Covid-19 Median Death Rate across Regions & Gender')"
   ]
  },
  {
   "cell_type": "markdown",
   "metadata": {},
   "source": [
    "### Pivot Table"
   ]
  },
  {
   "cell_type": "code",
   "execution_count": 155,
   "metadata": {},
   "outputs": [
    {
     "data": {
      "text/html": [
       "<div>\n",
       "<style scoped>\n",
       "    .dataframe tbody tr th:only-of-type {\n",
       "        vertical-align: middle;\n",
       "    }\n",
       "\n",
       "    .dataframe tbody tr th {\n",
       "        vertical-align: top;\n",
       "    }\n",
       "\n",
       "    .dataframe thead th {\n",
       "        text-align: right;\n",
       "    }\n",
       "</style>\n",
       "<table border=\"1\" class=\"dataframe\">\n",
       "  <thead>\n",
       "    <tr style=\"text-align: right;\">\n",
       "      <th></th>\n",
       "      <th>Age</th>\n",
       "      <th>0 to 24</th>\n",
       "      <th>25 to 39</th>\n",
       "      <th>40 to 49</th>\n",
       "      <th>50 to 59</th>\n",
       "      <th>60 to 69</th>\n",
       "      <th>70 to 79</th>\n",
       "      <th>80 plus</th>\n",
       "      <th>All</th>\n",
       "    </tr>\n",
       "    <tr>\n",
       "      <th>Region</th>\n",
       "      <th>Sex</th>\n",
       "      <th></th>\n",
       "      <th></th>\n",
       "      <th></th>\n",
       "      <th></th>\n",
       "      <th></th>\n",
       "      <th></th>\n",
       "      <th></th>\n",
       "      <th></th>\n",
       "    </tr>\n",
       "  </thead>\n",
       "  <tbody>\n",
       "    <tr>\n",
       "      <th rowspan=\"2\" valign=\"top\">AFR</th>\n",
       "      <th>Female</th>\n",
       "      <td>-33.0</td>\n",
       "      <td>-15.5</td>\n",
       "      <td>280.5</td>\n",
       "      <td>1411.5</td>\n",
       "      <td>4351.0</td>\n",
       "      <td>8524.5</td>\n",
       "      <td>30797.5</td>\n",
       "      <td>1411.5</td>\n",
       "    </tr>\n",
       "    <tr>\n",
       "      <th>Male</th>\n",
       "      <td>-51.5</td>\n",
       "      <td>-33.0</td>\n",
       "      <td>406.0</td>\n",
       "      <td>1959.5</td>\n",
       "      <td>6225.0</td>\n",
       "      <td>14387.5</td>\n",
       "      <td>42313.0</td>\n",
       "      <td>1959.5</td>\n",
       "    </tr>\n",
       "    <tr>\n",
       "      <th rowspan=\"2\" valign=\"top\">AMR</th>\n",
       "      <th>Female</th>\n",
       "      <td>-2.5</td>\n",
       "      <td>182.5</td>\n",
       "      <td>531.5</td>\n",
       "      <td>1306.5</td>\n",
       "      <td>3004.5</td>\n",
       "      <td>5063.0</td>\n",
       "      <td>12424.0</td>\n",
       "      <td>1306.5</td>\n",
       "    </tr>\n",
       "    <tr>\n",
       "      <th>Male</th>\n",
       "      <td>2.5</td>\n",
       "      <td>380.0</td>\n",
       "      <td>1193.5</td>\n",
       "      <td>2653.5</td>\n",
       "      <td>5570.0</td>\n",
       "      <td>10466.5</td>\n",
       "      <td>20424.5</td>\n",
       "      <td>2653.5</td>\n",
       "    </tr>\n",
       "    <tr>\n",
       "      <th rowspan=\"2\" valign=\"top\">EMR</th>\n",
       "      <th>Female</th>\n",
       "      <td>-5.0</td>\n",
       "      <td>-35.0</td>\n",
       "      <td>215.5</td>\n",
       "      <td>1139.0</td>\n",
       "      <td>3806.0</td>\n",
       "      <td>7762.5</td>\n",
       "      <td>24198.5</td>\n",
       "      <td>1139.0</td>\n",
       "    </tr>\n",
       "    <tr>\n",
       "      <th>Male</th>\n",
       "      <td>-11.5</td>\n",
       "      <td>-120.0</td>\n",
       "      <td>303.5</td>\n",
       "      <td>1738.5</td>\n",
       "      <td>5513.5</td>\n",
       "      <td>12313.5</td>\n",
       "      <td>33606.5</td>\n",
       "      <td>1738.5</td>\n",
       "    </tr>\n",
       "    <tr>\n",
       "      <th rowspan=\"2\" valign=\"top\">EUR</th>\n",
       "      <th>Female</th>\n",
       "      <td>0.5</td>\n",
       "      <td>87.5</td>\n",
       "      <td>304.5</td>\n",
       "      <td>687.0</td>\n",
       "      <td>2244.5</td>\n",
       "      <td>5278.5</td>\n",
       "      <td>11793.5</td>\n",
       "      <td>687.0</td>\n",
       "    </tr>\n",
       "    <tr>\n",
       "      <th>Male</th>\n",
       "      <td>15.0</td>\n",
       "      <td>158.0</td>\n",
       "      <td>747.5</td>\n",
       "      <td>1645.5</td>\n",
       "      <td>4729.5</td>\n",
       "      <td>8957.5</td>\n",
       "      <td>16266.5</td>\n",
       "      <td>1645.5</td>\n",
       "    </tr>\n",
       "    <tr>\n",
       "      <th rowspan=\"2\" valign=\"top\">Global</th>\n",
       "      <th>Female</th>\n",
       "      <td>-8.5</td>\n",
       "      <td>33.5</td>\n",
       "      <td>257.5</td>\n",
       "      <td>893.5</td>\n",
       "      <td>2651.5</td>\n",
       "      <td>4836.0</td>\n",
       "      <td>11443.0</td>\n",
       "      <td>906.0</td>\n",
       "    </tr>\n",
       "    <tr>\n",
       "      <th>Male</th>\n",
       "      <td>-11.5</td>\n",
       "      <td>5.0</td>\n",
       "      <td>420.0</td>\n",
       "      <td>1487.5</td>\n",
       "      <td>4291.5</td>\n",
       "      <td>8519.5</td>\n",
       "      <td>16700.0</td>\n",
       "      <td>1487.5</td>\n",
       "    </tr>\n",
       "    <tr>\n",
       "      <th rowspan=\"2\" valign=\"top\">SEAR</th>\n",
       "      <th>Female</th>\n",
       "      <td>0.0</td>\n",
       "      <td>76.5</td>\n",
       "      <td>451.5</td>\n",
       "      <td>1762.5</td>\n",
       "      <td>5195.0</td>\n",
       "      <td>10137.0</td>\n",
       "      <td>28962.5</td>\n",
       "      <td>1671.5</td>\n",
       "    </tr>\n",
       "    <tr>\n",
       "      <th>Male</th>\n",
       "      <td>0.0</td>\n",
       "      <td>52.0</td>\n",
       "      <td>679.0</td>\n",
       "      <td>2674.0</td>\n",
       "      <td>7483.0</td>\n",
       "      <td>16080.0</td>\n",
       "      <td>41176.0</td>\n",
       "      <td>2625.0</td>\n",
       "    </tr>\n",
       "    <tr>\n",
       "      <th rowspan=\"2\" valign=\"top\">WPR</th>\n",
       "      <th>Female</th>\n",
       "      <td>-1.0</td>\n",
       "      <td>-69.5</td>\n",
       "      <td>-81.0</td>\n",
       "      <td>39.0</td>\n",
       "      <td>533.5</td>\n",
       "      <td>353.5</td>\n",
       "      <td>-135.0</td>\n",
       "      <td>-3.0</td>\n",
       "    </tr>\n",
       "    <tr>\n",
       "      <th>Male</th>\n",
       "      <td>-2.5</td>\n",
       "      <td>-245.0</td>\n",
       "      <td>-286.5</td>\n",
       "      <td>-22.5</td>\n",
       "      <td>856.5</td>\n",
       "      <td>1490.0</td>\n",
       "      <td>-2750.5</td>\n",
       "      <td>-62.5</td>\n",
       "    </tr>\n",
       "    <tr>\n",
       "      <th>All</th>\n",
       "      <th></th>\n",
       "      <td>-2.5</td>\n",
       "      <td>29.0</td>\n",
       "      <td>360.5</td>\n",
       "      <td>1043.0</td>\n",
       "      <td>3608.5</td>\n",
       "      <td>7014.5</td>\n",
       "      <td>18180.5</td>\n",
       "      <td>892.0</td>\n",
       "    </tr>\n",
       "  </tbody>\n",
       "</table>\n",
       "</div>"
      ],
      "text/plain": [
       "Age            0 to 24  25 to 39  40 to 49  50 to 59  60 to 69  70 to 79  \\\n",
       "Region Sex                                                                 \n",
       "AFR    Female    -33.0     -15.5     280.5    1411.5    4351.0    8524.5   \n",
       "       Male      -51.5     -33.0     406.0    1959.5    6225.0   14387.5   \n",
       "AMR    Female     -2.5     182.5     531.5    1306.5    3004.5    5063.0   \n",
       "       Male        2.5     380.0    1193.5    2653.5    5570.0   10466.5   \n",
       "EMR    Female     -5.0     -35.0     215.5    1139.0    3806.0    7762.5   \n",
       "       Male      -11.5    -120.0     303.5    1738.5    5513.5   12313.5   \n",
       "EUR    Female      0.5      87.5     304.5     687.0    2244.5    5278.5   \n",
       "       Male       15.0     158.0     747.5    1645.5    4729.5    8957.5   \n",
       "Global Female     -8.5      33.5     257.5     893.5    2651.5    4836.0   \n",
       "       Male      -11.5       5.0     420.0    1487.5    4291.5    8519.5   \n",
       "SEAR   Female      0.0      76.5     451.5    1762.5    5195.0   10137.0   \n",
       "       Male        0.0      52.0     679.0    2674.0    7483.0   16080.0   \n",
       "WPR    Female     -1.0     -69.5     -81.0      39.0     533.5     353.5   \n",
       "       Male       -2.5    -245.0    -286.5     -22.5     856.5    1490.0   \n",
       "All               -2.5      29.0     360.5    1043.0    3608.5    7014.5   \n",
       "\n",
       "Age            80 plus     All  \n",
       "Region Sex                      \n",
       "AFR    Female  30797.5  1411.5  \n",
       "       Male    42313.0  1959.5  \n",
       "AMR    Female  12424.0  1306.5  \n",
       "       Male    20424.5  2653.5  \n",
       "EMR    Female  24198.5  1139.0  \n",
       "       Male    33606.5  1738.5  \n",
       "EUR    Female  11793.5   687.0  \n",
       "       Male    16266.5  1645.5  \n",
       "Global Female  11443.0   906.0  \n",
       "       Male    16700.0  1487.5  \n",
       "SEAR   Female  28962.5  1671.5  \n",
       "       Male    41176.0  2625.0  \n",
       "WPR    Female   -135.0    -3.0  \n",
       "       Male    -2750.5   -62.5  \n",
       "All            18180.5   892.0  "
      ]
     },
     "execution_count": 155,
     "metadata": {},
     "output_type": "execute_result"
    }
   ],
   "source": [
    "pivot_table(covid_df, index=[LOC, SEX], columns=AGE, values=RATE, aggfunc=st.median, margins=True)"
   ]
  },
  {
   "cell_type": "markdown",
   "metadata": {},
   "source": [
    "From The pivot table above, it seems death rate rises with age. The sum of median deaths for 0-24 year olds is -2.5, 29 for 25-39 and 18180.5 for those above 80 years of age. We investigate this statistically with a scatter plot and using spearman correlation"
   ]
  },
  {
   "cell_type": "code",
   "execution_count": 160,
   "metadata": {
    "scrolled": true
   },
   "outputs": [
    {
     "data": {
      "text/plain": [
       "<AxesSubplot:xlabel='Age', ylabel='Deaths'>"
      ]
     },
     "execution_count": 160,
     "metadata": {},
     "output_type": "execute_result"
    },
    {
     "data": {
      "image/png": "[encoded data removed]",
      "text/plain": [
       "<Figure size 720x288 with 1 Axes>"
      ]
     },
     "metadata": {
      "needs_background": "light"
     },
     "output_type": "display_data"
    }
   ],
   "source": [
    "age_deaths=covid_df[0:70][[AGE,DEATHS]]\n",
    "age_deaths.sort_values(AGE).plot(x=AGE, y=DEATHS, grid=True, figsize=(10,4), kind='scatter')"
   ]
  },
  {
   "cell_type": "markdown",
   "metadata": {},
   "source": [
    "The graph above depicts how death rate is lower in lower age groups and vice versa. We can determine how strong this correlation is using spearmanr function from scipy"
   ]
  },
  {
   "cell_type": "code",
   "execution_count": 163,
   "metadata": {},
   "outputs": [
    {
     "data": {
      "text/plain": [
       "(0.7257680021339493, 1.1784159753766996e-12)"
      ]
     },
     "execution_count": 163,
     "metadata": {},
     "output_type": "execute_result"
    }
   ],
   "source": [
    "from scipy.stats import spearmanr\n",
    "(corr, pval)=spearmanr(age_deaths[AGE], age_deaths[DEATHS])\n",
    "(corr, pval)"
   ]
  },
  {
   "cell_type": "markdown",
   "metadata": {},
   "source": [
    "Correlation is positive and strong at corr=0.726. A p-value of 1.17e-12 shows this correlation is statistically significant.\n",
    "\n",
    "## Conclusion\n",
    "We can conclude that death rate due to COVID-19 from the analysed data from WHO increases with age. Older people are prone to dying to the virus and should therefore take extra caution to prevent an infection."
   ]
  }
 ],
 "metadata": {
  "kernelspec": {
   "display_name": "Python 3",
   "language": "python",
   "name": "python3"
  },
  "language_info": {
   "codemirror_mode": {
    "name": "ipython",
    "version": 3
   },
   "file_extension": ".py",
   "mimetype": "text/x-python",
   "name": "python",
   "nbconvert_exporter": "python",
   "pygments_lexer": "ipython3",
   "version": "3.8.5"
  }
 },
 "nbformat": 4,
 "nbformat_minor": 4
}
